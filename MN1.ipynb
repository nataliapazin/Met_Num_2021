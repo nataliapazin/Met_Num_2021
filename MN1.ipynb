{
  "nbformat": 4,
  "nbformat_minor": 0,
  "metadata": {
    "colab": {
      "name": "MN1.ipynb",
      "provenance": [],
      "collapsed_sections": [],
      "authorship_tag": "ABX9TyMrWUa252tKVlpiScBlyR3T",
      "include_colab_link": true
    },
    "kernelspec": {
      "name": "python3",
      "display_name": "Python 3"
    },
    "language_info": {
      "name": "python"
    }
  },
  "cells": [
    {
      "cell_type": "markdown",
      "metadata": {
        "id": "view-in-github",
        "colab_type": "text"
      },
      "source": [
        "<a href=\"https://colab.research.google.com/github/nataliapazin/Met_Num_2021/blob/main/MN1.ipynb\" target=\"_parent\"><img src=\"https://colab.research.google.com/assets/colab-badge.svg\" alt=\"Open In Colab\"/></a>"
      ]
    },
    {
      "cell_type": "code",
      "metadata": {
        "colab": {
          "base_uri": "https://localhost:8080/"
        },
        "id": "HVyCxNVH_yAa",
        "outputId": "80635f5b-56c4-41db-d0d6-b87552550be1"
      },
      "source": [
        "mM = 30\n",
        "xm = 0.7\n",
        "valor_M = mM*xm\n",
        "print('valor_M separado',valor_M)"
      ],
      "execution_count": null,
      "outputs": [
        {
          "output_type": "stream",
          "text": [
            "valor_M separado 21.0\n"
          ],
          "name": "stdout"
        }
      ]
    },
    {
      "cell_type": "code",
      "metadata": {
        "colab": {
          "base_uri": "https://localhost:8080/"
        },
        "id": "IyOynsVUCf0_",
        "outputId": "8828af06-3b52-4d75-f140-f5259c356363"
      },
      "source": [
        "Quantidades = [30, 25, 10]\n",
        "Recupera = [0.70, 0.80, 0.90]\n",
        "Num = 3\n",
        "for i in range(Num):\n",
        "  valor_separado = Quantidades[i]*Recupera[i]\n",
        "  print('valor separado',valor_separado)"
      ],
      "execution_count": null,
      "outputs": [
        {
          "output_type": "stream",
          "text": [
            "valor separado 21.0\n",
            "valor separado 20.0\n",
            "valor separado 9.0\n"
          ],
          "name": "stdout"
        }
      ]
    },
    {
      "cell_type": "code",
      "metadata": {
        "colab": {
          "base_uri": "https://localhost:8080/"
        },
        "id": "ViAC9zcKGCuk",
        "outputId": "f3550616-5b7d-44ed-8e74-cd9b968e9e95"
      },
      "source": [
        "Quantidades = [30, 25, 10]\n",
        "Recupera = [0.70, 0.80, 0.90]\n",
        "Resposta = []\n",
        "Num = len(Quantidades)\n",
        "for i in range(Num):\n",
        "  valor_separado = Quantidades[i]*Recupera[i]\n",
        "  Resposta.append(valor_separado)\n",
        "  print(Resposta)"
      ],
      "execution_count": null,
      "outputs": [
        {
          "output_type": "stream",
          "text": [
            "[21.0]\n",
            "[21.0, 20.0]\n",
            "[21.0, 20.0, 9.0]\n"
          ],
          "name": "stdout"
        }
      ]
    },
    {
      "cell_type": "code",
      "metadata": {
        "colab": {
          "base_uri": "https://localhost:8080/"
        },
        "id": "X5X1MzKHHPyc",
        "outputId": "f8ac763f-51c2-47c1-92b5-b4b4004ef34f"
      },
      "source": [
        "Quantidades = [30, 25, 10]\n",
        "Recupera = [0.70, 0.80, 0.90]\n",
        "Nomes = ['M', 'E', 'P']\n",
        "Resposta = []\n",
        "Num = len(Quantidades)\n",
        "for i in range(Num):\n",
        "  valor_separado = Quantidades[i]*Recupera[i]\n",
        "  Resposta.append(valor_separado)\n",
        "\n",
        "for k in range(Num):\n",
        "  print('componente',Nomes[k],Resposta[k])"
      ],
      "execution_count": null,
      "outputs": [
        {
          "output_type": "stream",
          "text": [
            "componente M 21.0\n",
            "componente E 20.0\n",
            "componente P 9.0\n"
          ],
          "name": "stdout"
        }
      ]
    },
    {
      "cell_type": "code",
      "metadata": {
        "colab": {
          "base_uri": "https://localhost:8080/"
        },
        "id": "hy2F4dKsD1Ys",
        "outputId": "7bcea571-107b-4281-e6f3-44e55f337c36"
      },
      "source": [
        "import pandas as pd\n",
        "df = pd.DataFrame({'Nome':Nomes,'Quant':Quantidades,'Recupera %':Recupera,'Recuperado':Resposta})\n",
        "print(df)"
      ],
      "execution_count": null,
      "outputs": [
        {
          "output_type": "stream",
          "text": [
            "  Nome  Quant  Recupera %  Recuperado\n",
            "0    M     30         0.7        21.0\n",
            "1    E     25         0.8        20.0\n",
            "2    P     10         0.9         9.0\n"
          ],
          "name": "stdout"
        }
      ]
    },
    {
      "cell_type": "code",
      "metadata": {
        "colab": {
          "base_uri": "https://localhost:8080/"
        },
        "id": "iAoNKyA5I01W",
        "outputId": "ce660e2a-de60-47f4-c2f5-40f36b60492d"
      },
      "source": [
        "import numpy as np\n",
        "Quant = np.array([30, 25, 10])\n",
        "Recup = np.array([0.70, 0.80, 0.90])\n",
        "Resp = Quant*Recup\n",
        "print(Resp)"
      ],
      "execution_count": null,
      "outputs": [
        {
          "output_type": "stream",
          "text": [
            "[21. 20.  9.]\n"
          ],
          "name": "stdout"
        }
      ]
    },
    {
      "cell_type": "code",
      "metadata": {
        "colab": {
          "base_uri": "https://localhost:8080/"
        },
        "id": "XmT8ANjbM5qz",
        "outputId": "20d9d568-984f-493d-e47f-a07b1f7523bb"
      },
      "source": [
        "A = np.array([[0.9,0.3,0.1],[0.1,0.5,0.2],[0.0,0.2,0.7]])\n",
        "b = np.array([30,25,10])\n",
        "print(A)\n"
      ],
      "execution_count": null,
      "outputs": [
        {
          "output_type": "stream",
          "text": [
            "[[0.9 0.3 0.1]\n",
            " [0.1 0.5 0.2]\n",
            " [0.  0.2 0.7]]\n"
          ],
          "name": "stdout"
        }
      ]
    },
    {
      "cell_type": "code",
      "metadata": {
        "colab": {
          "base_uri": "https://localhost:8080/"
        },
        "id": "368aBxw_PDpa",
        "outputId": "8950c118-58a1-4884-9021-c2bc9dcce5b5"
      },
      "source": [
        "print(b)"
      ],
      "execution_count": null,
      "outputs": [
        {
          "output_type": "stream",
          "text": [
            "[30 25 10]\n"
          ],
          "name": "stdout"
        }
      ]
    },
    {
      "cell_type": "code",
      "metadata": {
        "colab": {
          "base_uri": "https://localhost:8080/"
        },
        "id": "pr8woOE3PHLh",
        "outputId": "8f0c0984-0e92-4d6f-94e0-3bf026bf127f"
      },
      "source": [
        "print(A[0,1])"
      ],
      "execution_count": null,
      "outputs": [
        {
          "output_type": "stream",
          "text": [
            "0.3\n"
          ],
          "name": "stdout"
        }
      ]
    },
    {
      "cell_type": "code",
      "metadata": {
        "colab": {
          "base_uri": "https://localhost:8080/"
        },
        "id": "fiPn_kMvP3I3",
        "outputId": "c01a069b-6621-4dec-c498-18529cd19271"
      },
      "source": [
        "print(A[0,:])"
      ],
      "execution_count": null,
      "outputs": [
        {
          "output_type": "stream",
          "text": [
            "[0.9 0.3 0.1]\n"
          ],
          "name": "stdout"
        }
      ]
    },
    {
      "cell_type": "code",
      "metadata": {
        "colab": {
          "base_uri": "https://localhost:8080/"
        },
        "id": "f12Ko4XFP6Qf",
        "outputId": "8d681a9a-4648-4ea0-f830-80125e6aea4b"
      },
      "source": [
        "print(A[:,0])"
      ],
      "execution_count": null,
      "outputs": [
        {
          "output_type": "stream",
          "text": [
            "[0.9 0.1 0. ]\n"
          ],
          "name": "stdout"
        }
      ]
    },
    {
      "cell_type": "code",
      "metadata": {
        "colab": {
          "base_uri": "https://localhost:8080/"
        },
        "id": "eNbpmOtzP7_6",
        "outputId": "eec993cc-ef6a-4a25-f3e7-0b0c12d8843d"
      },
      "source": [
        "print(A[:,:-1])"
      ],
      "execution_count": null,
      "outputs": [
        {
          "output_type": "stream",
          "text": [
            "[[0.9 0.3]\n",
            " [0.1 0.5]\n",
            " [0.  0.2]]\n"
          ],
          "name": "stdout"
        }
      ]
    },
    {
      "cell_type": "code",
      "metadata": {
        "colab": {
          "base_uri": "https://localhost:8080/"
        },
        "id": "R1ovNKVkQWkR",
        "outputId": "7a392f70-5252-4318-c521-2b618ab227d9"
      },
      "source": [
        "M = np.zeros((3,4))\n",
        "M[:,:-1] = A\n",
        "M[:,3] = b\n",
        "print(M)"
      ],
      "execution_count": null,
      "outputs": [
        {
          "output_type": "stream",
          "text": [
            "[[ 0.9  0.3  0.1 30. ]\n",
            " [ 0.1  0.5  0.2 25. ]\n",
            " [ 0.   0.2  0.7 10. ]]\n"
          ],
          "name": "stdout"
        }
      ]
    }
  ]
}